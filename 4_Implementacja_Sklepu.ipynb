{
 "cells": [
  {
   "cell_type": "markdown",
   "metadata": {},
   "source": [
    "# Zadanie główne\n",
    "\n",
    "Implementacja sklepu. Kolejne klasy powinny być zaimplementowane w osobnych komórkach :)\n",
    "\n",
    "## Część 1\n",
    "\n",
    "\n",
    "1. Sklep powinieć posiadać pewne podstawowe atrybuty (nazwa, branża etc.). Każdy z tych atrybutów powinien być dostępny poprzez osobną metodę. Sklep powiniec wypisać wszystkie podstawowe atrybuty sklepu w przystępnej postaci (print i __str__)\n",
    "2. Sklep posiada słownik produktów (nazwa_produktu -> Produkt) oraz kwotę zarobioną\n",
    "3. Sklep powinien udostępniać możliwość dodania nowego produktu\n",
    "4. Produkty zawierają atrybuty takie jak nazwa i cena\n",
    "5. Klienci trzymają w sobie listę zakupionych produktów oraz pieniądze które posiadają\n",
    "6. Klienci dzielą się na klientów biznesowych i indywidualnych. Klienci biznesowi mają inną stawkę VAT od indywidualnych\n",
    "8. Gdy klient chce kupić produkt, powiniec moc poinformowac sklep o chęci wykonania zakupu. Sklep powinien obiekt klienta wraz z nazwą produktu. Z obiektu klienta sklep powinien pobrać stawkę VAT. Koszt kupna równa się cenie produktu z doliczonym VATem. Koszt kupna powinien zostać przez sklep odjęty z kapitału klienta i dodany do kwoty zarobionej sklepu.\n",
    "9. Przed wykonaniem sprzedaży, sklep powinien sprawdzić czy klienta stać na zakup. Jeśli nie, transakcja nie powinna dojsć do skutku i odpowiedni komunikat powinien być wypisany na ekran\n",
    "10. W przypadku gdy klient chce kupić nieistniejący produkt, stosowny komunikat powinien być wypisany na ekran\n",
    "\n",
    "## Część 2\n",
    "\n",
    "1. Klient powinien móc zasubskrybować się do informacji o nowych produktach (Wzorzec Observer)\n",
    "\n",
    "## Część 3 \n",
    "\n",
    "1. Sklep, klienci powinni udostępniać metody do pozyskania najdroższej i najtańszej rzeczy z produktów\n",
    "2. Klienci powinni udostępniać metodę do pozyskania listy NAZW zakupionych produktów (nie produktów)\n"
   ]
  },
  {
   "cell_type": "code",
   "execution_count": 1,
   "metadata": {
    "collapsed": true
   },
   "outputs": [],
   "source": [
    "class product():\n",
    "    def __init__(self,name,price):\n",
    "        self.name = name\n",
    "        self.price = price"
   ]
  },
  {
   "cell_type": "code",
   "execution_count": 2,
   "metadata": {
    "collapsed": false
   },
   "outputs": [],
   "source": [
    "class client():\n",
    "    def __init__(self,money,vat,list_of_products = []):\n",
    "        self.list_of_products = list_of_products\n",
    "        self.money = money\n",
    "        self.vat = vat\n",
    "    def notify(self,new_notification):\n",
    "        print(new_notification.get_message())\n",
    "    def get_list_of_products(self):\n",
    "        return(self.list_of_products)"
   ]
  },
  {
   "cell_type": "code",
   "execution_count": 3,
   "metadata": {
    "collapsed": true
   },
   "outputs": [],
   "source": [
    "class ind_client(client):\n",
    "    def __init__(self,money,list_of_product = []):\n",
    "        super().__init__(money,1.23,list_of_product)"
   ]
  },
  {
   "cell_type": "code",
   "execution_count": 4,
   "metadata": {
    "collapsed": true
   },
   "outputs": [],
   "source": [
    "class buss_client(client):\n",
    "    def __init__(self,money,list_of_product = []):\n",
    "        super().__init__(money,1.8,list_of_product)"
   ]
  },
  {
   "cell_type": "code",
   "execution_count": 5,
   "metadata": {
    "collapsed": false
   },
   "outputs": [],
   "source": [
    "class notification():\n",
    "    def __init(self):\n",
    "        self.new_product = \"\"\n",
    "        self.message = \"\"\n",
    "    def set_message(self,new_product):\n",
    "        self.message = \"Newly added product \" + new_product\n",
    "    def get_message(self):\n",
    "        return self.message"
   ]
  },
  {
   "cell_type": "code",
   "execution_count": 6,
   "metadata": {
    "collapsed": false
   },
   "outputs": [],
   "source": [
    "from functools import reduce\n",
    "class shop():\n",
    "    def __init__(self,name,trade,inventory = {},subscribed_clients = []):\n",
    "        self.name = name\n",
    "        self.trade = trade\n",
    "        self.inventory = inventory\n",
    "        self.profit = 0\n",
    "        self.subscribed_clients = subscribed_clients\n",
    "    \n",
    "    def get_name(self):\n",
    "        return self.name\n",
    "    \n",
    "    def get_trade(self):\n",
    "        return self.trade\n",
    "    \n",
    "    def __str__(self):\n",
    "        return(\"Name is \" + self.name + \" My trade is a\" + self.trade)\n",
    "   \n",
    "    def add_product(self,new_product):\n",
    "        self.inventory[new_product.name] = new_product\n",
    "        self.notify_all_clients(new_product.name)\n",
    "        \n",
    "    def increase_profit(self,new_product):\n",
    "        self.profit += new_product.price\n",
    "        \n",
    "    def buy(self,new_client,product_name):\n",
    "        if product_name in self.inventory.keys():\n",
    "            #we have your product\n",
    "            product_price = new_client.vat * self.inventory[product_name].price\n",
    "            if new_client.money > product_price:\n",
    "                #you may afford our product\n",
    "                new_client.money -= product_price\n",
    "                new_client.list_of_products.append(product_name)\n",
    "                self.profit += product_price\n",
    "            else:\n",
    "                print('You can\\'t afford')\n",
    "        else:\n",
    "            print('We don\\'t have ' + product_name)\n",
    "            \n",
    "    def subscribe(self,new_client):\n",
    "        self.subscribed_clients.append(new_client)\n",
    "\n",
    "    \n",
    "    def notify_all_clients(self,new_product):\n",
    "\n",
    "        for sub_client in self.subscribed_clients:\n",
    "            new_notification = notification()\n",
    "            new_notification.set_message(new_product)\n",
    "            sub_client.notify(new_notification)\n",
    "            \n",
    "    def get_cheapest_product(self):\n",
    "        return(reduce(lambda p1,p2: p1 if p1[1].price < p2[1].price else p2,self.inventory.items()))\n",
    "    \n",
    "    def get_most_expensive_product(self):\n",
    "        return(reduce(lambda p1,p2: p1 if p1[1].price > p2[1].price else p2,self.inventory.items()))\n",
    "            \n",
    "        "
   ]
  },
  {
   "cell_type": "code",
   "execution_count": 7,
   "metadata": {
    "collapsed": false
   },
   "outputs": [
    {
     "name": "stdout",
     "output_type": "stream",
     "text": [
      "Name is my_best My trade is agrocery\n"
     ]
    }
   ],
   "source": [
    "my_shop = shop(\"my_best\",\"grocery\")\n",
    "print(my_shop)"
   ]
  },
  {
   "cell_type": "code",
   "execution_count": 8,
   "metadata": {
    "collapsed": false
   },
   "outputs": [],
   "source": [
    "my_client = ind_client(10)\n",
    "my_shop.subscribe(my_client)"
   ]
  },
  {
   "cell_type": "code",
   "execution_count": 9,
   "metadata": {
    "collapsed": false
   },
   "outputs": [
    {
     "name": "stdout",
     "output_type": "stream",
     "text": [
      "We don't have milk\n"
     ]
    }
   ],
   "source": [
    "my_shop.buy(my_client,\"milk\")"
   ]
  },
  {
   "cell_type": "code",
   "execution_count": 10,
   "metadata": {
    "collapsed": false
   },
   "outputs": [
    {
     "name": "stdout",
     "output_type": "stream",
     "text": [
      "Newly added product milk\n",
      "Newly added product bread\n",
      "Newly added product butter\n"
     ]
    }
   ],
   "source": [
    "my_shop.add_product(product(\"milk\",2))\n",
    "my_shop.add_product(product(\"bread\",1.5))\n",
    "my_shop.add_product(product(\"butter\",5))"
   ]
  },
  {
   "cell_type": "code",
   "execution_count": 16,
   "metadata": {
    "collapsed": false
   },
   "outputs": [
    {
     "name": "stdout",
     "output_type": "stream",
     "text": [
      "We don't have sour_milk\n"
     ]
    }
   ],
   "source": [
    "my_shop.buy(my_client,\"sour_milk\")"
   ]
  },
  {
   "cell_type": "code",
   "execution_count": 17,
   "metadata": {
    "collapsed": false
   },
   "outputs": [],
   "source": [
    "my_shop.buy(my_client,\"milk\")"
   ]
  },
  {
   "cell_type": "code",
   "execution_count": 18,
   "metadata": {
    "collapsed": false
   },
   "outputs": [
    {
     "name": "stdout",
     "output_type": "stream",
     "text": [
      "Newly added product gold\n"
     ]
    }
   ],
   "source": [
    "my_shop.add_product(product(\"gold\",100))"
   ]
  },
  {
   "cell_type": "code",
   "execution_count": 19,
   "metadata": {
    "collapsed": false
   },
   "outputs": [
    {
     "name": "stdout",
     "output_type": "stream",
     "text": [
      "You can't afford\n"
     ]
    }
   ],
   "source": [
    "my_shop.buy(my_client,\"gold\")"
   ]
  },
  {
   "cell_type": "code",
   "execution_count": 20,
   "metadata": {
    "collapsed": false
   },
   "outputs": [
    {
     "data": {
      "text/plain": [
       "('bread', <__main__.product at 0x7fd558322470>)"
      ]
     },
     "execution_count": 20,
     "metadata": {},
     "output_type": "execute_result"
    }
   ],
   "source": [
    "my_shop.get_cheapest_product()"
   ]
  },
  {
   "cell_type": "code",
   "execution_count": 21,
   "metadata": {
    "collapsed": false
   },
   "outputs": [
    {
     "data": {
      "text/plain": [
       "['milk']"
      ]
     },
     "execution_count": 21,
     "metadata": {},
     "output_type": "execute_result"
    }
   ],
   "source": [
    "my_client.get_list_of_products()"
   ]
  },
  {
   "cell_type": "code",
   "execution_count": 24,
   "metadata": {
    "collapsed": true
   },
   "outputs": [],
   "source": [
    "filter?"
   ]
  },
  {
   "cell_type": "code",
   "execution_count": null,
   "metadata": {
    "collapsed": true
   },
   "outputs": [],
   "source": []
  }
 ],
 "metadata": {
  "kernelspec": {
   "display_name": "Python 3",
   "language": "python",
   "name": "python3"
  },
  "language_info": {
   "codemirror_mode": {
    "name": "ipython",
    "version": 3
   },
   "file_extension": ".py",
   "mimetype": "text/x-python",
   "name": "python",
   "nbconvert_exporter": "python",
   "pygments_lexer": "ipython3",
   "version": "3.6.0"
  }
 },
 "nbformat": 4,
 "nbformat_minor": 2
}
