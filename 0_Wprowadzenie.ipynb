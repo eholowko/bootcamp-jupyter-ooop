{
 "cells": [
  {
   "cell_type": "markdown",
   "metadata": {},
   "source": [
    "# Agenda\n",
    "\n",
    "- instalacja Jupytera Notebook\n",
    "- Rozgrzewka\n",
    "- Wstęp do programowania obiektowego (teoria)\n",
    "- Programowanie obiektowe w Pythonie\n",
    "- Ćwiczenia - Implementacja sklepu w paradygmacie obiektowym"
   ]
  },
  {
   "cell_type": "markdown",
   "metadata": {},
   "source": [
    "# Jupyter Notebook"
   ]
  },
  {
   "cell_type": "markdown",
   "metadata": {},
   "source": [
    "1. Uruchamiamy terminal i wpisujemy poniższe komendy\n",
    "```\n",
    "python3 -m pip install --upgrade pip\n",
    "python3 -m pip install jupyter\n",
    "```\n",
    "Alternatywnie jeśli nie mamy zainstalowanego Pythona 3, możemy pobrać Anacondę (https://www.anaconda.com/download/). Zawiera on zarówno Pythona jak i Jupytera\n",
    "\n",
    "2. Klonujemy repozytorium Git\n",
    "```\n",
    "git clone https://github.com/bartosz-grabski/jupyter-python-starter\n",
    "```\n",
    "3. Przechodzimy do folderu jupyter-python-starter i uruchamiamy Jupytera\n",
    "```\n",
    "jupyter notebook\n",
    "```"
   ]
  },
  {
   "cell_type": "markdown",
   "metadata": {},
   "source": [
    "# Jupyter - przykład działania"
   ]
  },
  {
   "cell_type": "code",
   "execution_count": 3,
   "metadata": {
    "collapsed": false
   },
   "outputs": [
    {
     "name": "stdout",
     "output_type": "stream",
     "text": [
      "nowy napis\n",
      "hello\n"
     ]
    }
   ],
   "source": [
    "def hello():\n",
    "    print(\"hello\")\n",
    "print(napis)    \n",
    "a = 123\n",
    "hello()"
   ]
  },
  {
   "cell_type": "markdown",
   "metadata": {},
   "source": [
    "Jupyter zapamiętuje wczesniej wykonane komórki (cells, numerek przy In (np. In [1] oznacza kolejność wykonania komórki). Dzięki temu możemy np. wypisać wcześniej zdefiniowane zmienne."
   ]
  },
  {
   "cell_type": "code",
   "execution_count": 2,
   "metadata": {
    "collapsed": false
   },
   "outputs": [
    {
     "name": "stdout",
     "output_type": "stream",
     "text": [
      "123\n",
      "hello\n"
     ]
    }
   ],
   "source": [
    "napis = \"nowy napis\"\n",
    "print(a)\n",
    "hello()"
   ]
  },
  {
   "cell_type": "code",
   "execution_count": 9,
   "metadata": {
    "collapsed": true
   },
   "outputs": [],
   "source": [
    "a = 1234"
   ]
  }
 ],
 "metadata": {
  "kernelspec": {
   "display_name": "Python 3",
   "language": "python",
   "name": "python3"
  },
  "language_info": {
   "codemirror_mode": {
    "name": "ipython",
    "version": 3
   },
   "file_extension": ".py",
   "mimetype": "text/x-python",
   "name": "python",
   "nbconvert_exporter": "python",
   "pygments_lexer": "ipython3",
   "version": "3.6.0"
  }
 },
 "nbformat": 4,
 "nbformat_minor": 2
}
