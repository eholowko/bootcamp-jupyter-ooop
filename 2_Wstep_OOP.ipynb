{
 "cells": [
  {
   "cell_type": "markdown",
   "metadata": {},
   "source": [
    "# Definicja musi być\n",
    "\n",
    ">Programowanie obiektowe - paradygmat programowania, w którym programy definiuje się za pomocą obiektów – elementów łączących stan (czyli dane, nazywane najczęściej polami) i zachowanie (czyli procedury, tu: metody). Obiektowy program komputerowy wyrażony jest jako zbiór takich obiektów, komunikujących się pomiędzy sobą w celu wykonywania zadań.\n",
    ">\n",
    "> -- <cite>Wikipedia</cite>\n",
    "\n",
    "# Krócej\n",
    "\n",
    "- Staramy się modelować problem za pomocą obiektów (klas) i interakcji pomiędzy nimi.\n",
    "- Obiekty są instancją klasy, mają swój stan i określone zachowanie.\n"
   ]
  },
  {
   "cell_type": "code",
   "execution_count": 3,
   "metadata": {
    "collapsed": false
   },
   "outputs": [
    {
     "name": "stdout",
     "output_type": "stream",
     "text": [
      "Bartek\n"
     ]
    }
   ],
   "source": [
    "# Przyklad\n",
    "\n",
    "class Person():\n",
    "    def __init__(self,name,surname):\n",
    "        self.name = name\n",
    "        self.surname = surname\n",
    "        \n",
    "        \n",
    "person = Person('Bartek','Grabski')\n",
    "print(person.name)"
   ]
  },
  {
   "cell_type": "markdown",
   "metadata": {},
   "source": [
    "Zachowanie jakie ma obiekt stanowią metody w klasach. To one odpowiadają za interakcję z obiektem"
   ]
  },
  {
   "cell_type": "code",
   "execution_count": 7,
   "metadata": {
    "collapsed": false
   },
   "outputs": [
    {
     "name": "stdout",
     "output_type": "stream",
     "text": [
      "hello! I'm Bartek\n"
     ]
    }
   ],
   "source": [
    "# Przyklad\n",
    "\n",
    "class Person():\n",
    "    def __init__(self,name,surname):\n",
    "        self.name = name\n",
    "        self.surname = surname\n",
    "        \n",
    "    def say_hello(self):\n",
    "        print(\"hello! I'm \" + self.name)\n",
    "        \n",
    "a = Person('Bartek','Grabski')\n",
    "a.say_hello() # prints 'hello! I'm Bartek'"
   ]
  },
  {
   "cell_type": "markdown",
   "metadata": {},
   "source": [
    "# Słów kilka o dziedziczeniu\n",
    "\n",
    "- Klasa/obiekt może dziedziczyć po innej klasie\n",
    "- Dziedziczenie to mechanizm współdzielenia funkcjonalności\n"
   ]
  },
  {
   "cell_type": "code",
   "execution_count": 12,
   "metadata": {
    "collapsed": false
   },
   "outputs": [
    {
     "name": "stdout",
     "output_type": "stream",
     "text": [
      "Max\n",
      "100\n"
     ]
    }
   ],
   "source": [
    "# Przykład dziedziczenia\n",
    "\n",
    "class Animal():\n",
    "    def __init__(self,weight):\n",
    "        self.weight = weight\n",
    "\n",
    "    def print_weight(self):\n",
    "        print(self.weight)\n",
    "\n",
    "class Dog(Animal):\n",
    "    def __init__(self,weight,name):\n",
    "        self.weight = weight\n",
    "        self.name = name\n",
    "        \n",
    "dog = Dog(100,'Max')\n",
    "print(dog.name)\n",
    "dog.print_weight()"
   ]
  },
  {
   "cell_type": "code",
   "execution_count": null,
   "metadata": {
    "collapsed": true
   },
   "outputs": [],
   "source": [
    "Metody klasy mozna nadpisywac"
   ]
  },
  {
   "cell_type": "code",
   "execution_count": 16,
   "metadata": {
    "collapsed": false
   },
   "outputs": [
    {
     "name": "stdout",
     "output_type": "stream",
     "text": [
      "I do not want to say :)\n"
     ]
    }
   ],
   "source": [
    "# Przykład nadpisywania metody klasy\n",
    "\n",
    "class Animal():\n",
    "    def __init__(self,weight):\n",
    "        self.weight = weight\n",
    "    \n",
    "    def print_weight(self):\n",
    "        print(self.weight)\n",
    "\n",
    "\n",
    "class Dog(Animal):\n",
    "    def __init__(self,weight,name):\n",
    "        self.weight = weight\n",
    "        self.name = name\n",
    "        \n",
    "    def print_weight(self):\n",
    "        print('I do not want to say :)')\n",
    "        \n",
    "        \n",
    "dog = Dog(100,'Max')\n",
    "dog.print_weight()"
   ]
  },
  {
   "cell_type": "markdown",
   "metadata": {},
   "source": [
    "# SOLID\n",
    "\n",
    "(Jedno z podstawowych pytań na rozmowach kwalifikacyjnych)\n",
    "\n",
    "- S - Single Responsibility Principle\n",
    "- O - Open/Close principle\n",
    "- L - Liskov Substitution Principle\n",
    "- I - Interface Segregation Principle\n",
    "- D - Dependency Inversion Principle"
   ]
  },
  {
   "cell_type": "markdown",
   "metadata": {},
   "source": [
    "# Wzorce projektowe (Design Patterns)\n",
    "\n",
    "Sprawdzone w praktyce rozwiązanie często pojawiających się, powtarzalnych problemów projektowych. Przykład - wzorzec Observer, który zaimplementujemy później."
   ]
  }
 ],
 "metadata": {
  "kernelspec": {
   "display_name": "Python 3",
   "language": "python",
   "name": "python3"
  },
  "language_info": {
   "codemirror_mode": {
    "name": "ipython",
    "version": 3
   },
   "file_extension": ".py",
   "mimetype": "text/x-python",
   "name": "python",
   "nbconvert_exporter": "python",
   "pygments_lexer": "ipython3",
   "version": "3.6.0"
  }
 },
 "nbformat": 4,
 "nbformat_minor": 2
}
