{
 "cells": [
  {
   "cell_type": "markdown",
   "metadata": {},
   "source": [
    "# Rozgrzewka"
   ]
  },
  {
   "cell_type": "markdown",
   "metadata": {},
   "source": [
    "1. Różnica pomiędzy językiem interpretowalnym a kompilowalnym. Jakim językiem jest Python?\n",
    "2. Jakie mamy typy danych w Pythonie?\n",
    "3. Czym jest tablica? Jak definiujemy tablicę w Pythonie?\n",
    "4. Czym jest słownik?\n",
    "5. Czym jest klasa i obiekt? Czym jest konstruktor?"
   ]
  },
  {
   "cell_type": "code",
   "execution_count": 2,
   "metadata": {
    "collapsed": false
   },
   "outputs": [
    {
     "name": "stdout",
     "output_type": "stream",
     "text": [
      "<class 'int'>\n",
      "<class 'float'>\n",
      "<class 'str'>\n",
      "<class 'list'>\n",
      "<class 'dict'>\n",
      "<class 'type'>\n"
     ]
    }
   ],
   "source": [
    "# Wypisz typ danych następujących zmiennych/definicji\n",
    "\n",
    "a = 1\n",
    "b = 1.0\n",
    "c = 'hello'\n",
    "e = []\n",
    "f = {}\n",
    "class Person:\n",
    "    pass\n",
    "print(type(a))\n",
    "print(type(b))\n",
    "print(type(c))\n",
    "print(type(e))\n",
    "print(type(f))\n",
    "print(type(Person))\n"
   ]
  },
  {
   "cell_type": "code",
   "execution_count": 7,
   "metadata": {
    "collapsed": false
   },
   "outputs": [],
   "source": [
    "# Oblicz sumę liczb z tablicy 'tab' i zapisz ją do zmiennej 'result'\n",
    "\n",
    "result = 0\n",
    "tab = list(range(1,100)) # tablica elementów od 1 do 99 [...]\n",
    "\n",
    "result = sum(tab)\n",
    "\n",
    "assert result == 4950\n",
    "\n",
    "# hint - pętla for (lub dla ciekawskich - wbudowane funkcje do operowania na kolekcjach)"
   ]
  },
  {
   "cell_type": "code",
   "execution_count": 22,
   "metadata": {
    "collapsed": false
   },
   "outputs": [
    {
     "name": "stdout",
     "output_type": "stream",
     "text": [
      "AnnaKowalska\n"
     ]
    }
   ],
   "source": [
    "# Zdefiniuj klasę Person ktora przyjmuje w konstruktorze 2 parametry 'name' i 'surname'\n",
    "# Stwórz 3 obiekty klasy Person (parametry dowolne) i zapisz je do zmiennych person1, person2, person3.\n",
    "class Person:\n",
    "    def __init__(self,name,surname):\n",
    "        self.name = name\n",
    "        self.surname = surname\n",
    "    def __str__(self):\n",
    "        return self.name + self.surname\n",
    "        \n",
    "person1 = Person(\"Anna\",\"Kowalska\")\n",
    "person2 = Person(\"Jan\",\"Nowak\")\n",
    "person3 = Person(\"Adam\",\"Nowak\")\n",
    "print(person1)"
   ]
  },
  {
   "cell_type": "code",
   "execution_count": 24,
   "metadata": {
    "collapsed": true
   },
   "outputs": [],
   "source": [
    "# Stwórz tablicę 'people' i dodaj zmienne person1, person2, person3 do tablicy\n",
    "people = [person1,person2,person3]\n",
    "assert len(people) == 3"
   ]
  },
  {
   "cell_type": "code",
   "execution_count": 27,
   "metadata": {
    "collapsed": false
   },
   "outputs": [],
   "source": [
    "# Zdefiniuj funkcję 'myMax' która przyjmuje tablicę elementów i zwraca największy element\n",
    "def myMax(L):\n",
    "    return max(L)\n",
    "    \n",
    "assert myMax([1,2,3,10,11,2,2]) == 11\n",
    "\n",
    "# hint dla ciekawskich - można skorzystać z wbudowanych funkcji :) "
   ]
  },
  {
   "cell_type": "code",
   "execution_count": 54,
   "metadata": {
    "collapsed": false
   },
   "outputs": [
    {
     "name": "stdout",
     "output_type": "stream",
     "text": [
      "11\n"
     ]
    }
   ],
   "source": [
    "print(reduce(lambda x,y: max(x,y), [1,2,3,10,11,2,2]))"
   ]
  },
  {
   "cell_type": "code",
   "execution_count": 29,
   "metadata": {
    "collapsed": false
   },
   "outputs": [],
   "source": [
    "# Stwórz dwa zbiory 'a' i 'b'\n",
    "# Dodaj do zbioru a liczby 1,2,3\n",
    "# Dodaj do zbioru b liczby 2,3,4\n",
    "# Stwórz zbiory 'intersect' oraz 'union' będące iloczynem oraz sumą zbiorów 'a' i 'b'\n",
    "\n",
    "a = {1,2,3}\n",
    "b = {2,3,4}\n",
    "\n",
    "intersect = a & b\n",
    "union = a | b\n",
    "\n",
    "assert len(union) == 4\n",
    "assert len(intersect) == 2"
   ]
  },
  {
   "cell_type": "code",
   "execution_count": 33,
   "metadata": {
    "collapsed": false
   },
   "outputs": [
    {
     "name": "stdout",
     "output_type": "stream",
     "text": [
      "1\n",
      "2\n",
      "3\n",
      "0\n",
      "1\n"
     ]
    }
   ],
   "source": [
    "# wypisz elementy listy korzystając z rekurencji\n",
    "\n",
    "def recurrent(L):\n",
    "    if(len(L) == 1):\n",
    "        return print(L[0])\n",
    "    \n",
    "    print(L[0])\n",
    "    \n",
    "    return(recurrent(L[1:len(L)]))\n",
    "\n",
    "recurrent([1,2,3,0,1])"
   ]
  },
  {
   "cell_type": "code",
   "execution_count": 36,
   "metadata": {
    "collapsed": false
   },
   "outputs": [
    {
     "name": "stdout",
     "output_type": "stream",
     "text": [
      "1\n",
      "0\n",
      "3\n",
      "2\n",
      "1\n"
     ]
    }
   ],
   "source": [
    "# wypisz elementy listy korzystając z rekurencji\n",
    "\n",
    "def recurrent(L):\n",
    "    if(len(L) == 1):\n",
    "        return print(L[-1])\n",
    "    \n",
    "    print(L[-1])\n",
    "    \n",
    "    return(recurrent(L[-len(L):-1]))\n",
    "\n",
    "recurrent([1,2,3,0,1])"
   ]
  },
  {
   "cell_type": "code",
   "execution_count": 46,
   "metadata": {
    "collapsed": false
   },
   "outputs": [],
   "source": [
    "from functools import reduce"
   ]
  },
  {
   "cell_type": "code",
   "execution_count": 48,
   "metadata": {
    "collapsed": true
   },
   "outputs": [],
   "source": [
    "reduce?"
   ]
  },
  {
   "cell_type": "code",
   "execution_count": null,
   "metadata": {
    "collapsed": true
   },
   "outputs": [],
   "source": []
  }
 ],
 "metadata": {
  "kernelspec": {
   "display_name": "Python 3",
   "language": "python",
   "name": "python3"
  },
  "language_info": {
   "codemirror_mode": {
    "name": "ipython",
    "version": 3
   },
   "file_extension": ".py",
   "mimetype": "text/x-python",
   "name": "python",
   "nbconvert_exporter": "python",
   "pygments_lexer": "ipython3",
   "version": "3.6.0"
  }
 },
 "nbformat": 4,
 "nbformat_minor": 2
}
