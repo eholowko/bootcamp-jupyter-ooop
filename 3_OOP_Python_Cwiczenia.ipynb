{
 "cells": [
  {
   "cell_type": "code",
   "execution_count": 16,
   "metadata": {
    "collapsed": false
   },
   "outputs": [
    {
     "name": "stdout",
     "output_type": "stream",
     "text": [
      "howhow\n"
     ]
    }
   ],
   "source": [
    "# Zadanie 1\n",
    "# Zaimplementuje klasy 'Dog', 'Cat' ktore dziedzicza po 'Animal',\n",
    "# Klasa nadrzędna przyjmuje parametr 'sound', zapisuje jako pole.\n",
    "# 'Animal' posiada jedną metode get_sound która wypisuje na ekran stan pola 'sound'\n",
    "# Klasy podrzędne powinny nadpisać tą metodę, wypisując oprócz pola 'My sound is <stan_pola_sound>'\n",
    "# Spróbuj w wywołać metodę z klasy nadrzędnej przy pozyskiwaniu pola sound\n",
    "class Animal():\n",
    "    def __init__(self,sound):\n",
    "        self.sound = sound\n",
    "    def get_sound(self):\n",
    "        return (self.sound)\n",
    "\n",
    "class Dog(Animal):\n",
    "    def __init__(self):\n",
    "        super().__init__(\"how\")\n",
    "    def get_sound(self):\n",
    "        return(super().get_sound() + \"how\")\n",
    "my_dog = Dog()\n",
    "print(my_dog.get_sound())\n",
    "                \n",
    "    "
   ]
  },
  {
   "cell_type": "code",
   "execution_count": 38,
   "metadata": {
    "collapsed": false
   },
   "outputs": [
    {
     "name": "stdout",
     "output_type": "stream",
     "text": [
      "10000\n",
      "12000\n",
      "5000\n",
      "You won't get a raise\n",
      "5000\n",
      "No salary\n",
      "0\n"
     ]
    }
   ],
   "source": [
    "# Zadanie 2\n",
    "# Zamodeluj obiektowo relację pomiędzy pracownikami (Employee). Osoby powinny mieć imiona, nazwiska, pensję.\n",
    "# Każda z osób pracuje na jakimś stanowisku (Manager, Programmer, HR). Powinny być to typy dziedziczące po Employee\n",
    "# Każde stanowisko ma inną pensję. Powinniśmy móc spytać o pensję każdego pracownika oraz dać danemu pracownikowi podwyżkę\n",
    "class Employee():\n",
    "    def __init__(self,name,surname,salary = 0):\n",
    "        self.name = name\n",
    "        self.surname = surname\n",
    "        self.salary = salary\n",
    "        \n",
    "    def get_salary(self):\n",
    "        if(self.salary == 0):\n",
    "            print(\"No salary\")\n",
    "        return self.salary\n",
    "    \n",
    "    def give_raise(self,my_raise):\n",
    "        self.salary += my_raise\n",
    "        return(self.salary)\n",
    "        \n",
    "        \n",
    "class Manager(Employee):\n",
    "    def __init__(self,name,surname):\n",
    "        super().__init__(name,surname,10000)\n",
    "\n",
    "class Programmer(Employee):\n",
    "    def __init__(self,name,surname):\n",
    "        super().__init__(name,surname,8000)\n",
    "\n",
    "class HR(Employee):\n",
    "    def __init__(self,name,surname):\n",
    "        super().__init__(name,surname,5000)\n",
    "        \n",
    "    def give_raise(self,my_raise):\n",
    "        return print(\"You won\\'t get a raise\")\n",
    "\n",
    "manager1 = Manager(\"Ala\",\"Nowak\")\n",
    "print(manager1.get_salary())\n",
    "manager1.give_raise(2000)\n",
    "print(manager1.get_salary())\n",
    "\n",
    "hr1 = HR(\"Ola\",\"Kowalska\")\n",
    "print(hr1.get_salary())\n",
    "hr1.give_raise(500)\n",
    "print(hr1.get_salary())\n",
    "\n",
    "E = Employee(\"Anna\",\"Nowak\")\n",
    "print(E.get_salary())"
   ]
  },
  {
   "cell_type": "code",
   "execution_count": null,
   "metadata": {
    "collapsed": true
   },
   "outputs": [],
   "source": [
    "\n"
   ]
  }
 ],
 "metadata": {
  "kernelspec": {
   "display_name": "Python 3",
   "language": "python",
   "name": "python3"
  },
  "language_info": {
   "codemirror_mode": {
    "name": "ipython",
    "version": 3
   },
   "file_extension": ".py",
   "mimetype": "text/x-python",
   "name": "python",
   "nbconvert_exporter": "python",
   "pygments_lexer": "ipython3",
   "version": "3.6.0"
  }
 },
 "nbformat": 4,
 "nbformat_minor": 2
}
